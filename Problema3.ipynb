{
 "cells": [
  {
   "cell_type": "markdown",
   "metadata": {},
   "source": [
    "# Problema 3 - Análisis Datos Youtube - Archivo .py"
   ]
  },
  {
   "cell_type": "markdown",
   "metadata": {},
   "source": [
    "1. Descargar un archivo .zip mediante código del siguiente url (https://netsg.cs.sfu.ca/youtubedata/) (recomiendo descargar el archivo 0333.zip que es menos pesado)\n",
    "2. Descomprimir los datos en una carpeta que genere y leer mediante pandas alguno de los archivos en esta. (observar que no es necesario en un primer momento leer los datos con un nombre de columna especifico)\n",
    "\n",
    "    - Los nombres de columna pueden ser puestos posteriormente\n",
    "    - El separador de columna es <code>\\t</code>\n",
    "    - Se colocan los nombres de columnas y descripción asociada para su intermetación. Ejemplo columna1 sera VideoID ... \n",
    "    \n",
    "\n",
    "3. Procesar los datos según: \n",
    "    - Nos quedaremos con las columnas: VideoID, edad, catgoria, views, rate.\n",
    "    - Realizar un filtrado básico a los datos. Ejemplo solo seleccionar cierto grupo de categorias\n",
    "\n",
    "4. Procesamiento en Mongo Db\n",
    "    - Exportar los datos a mongo DB \n",
    "    - Crear 2 graficos con los datos \n",
    "    - Compartir link donde encontrar los datos \n",
    "\n",
    "\n"
   ]
  },
  {
   "cell_type": "markdown",
   "metadata": {},
   "source": [
    "| Nombre de la Columna | Descripción                                                                                                 |\n",
    "|----------------------|-------------------------------------------------------------------------------------------------------------|\n",
    "| `video ID`           | Una cadena de 11 dígitos, la cual es única                                                                |\n",
    "| `uploader`           | Una cadena con el nombre de usuario del cargador del video                                                  |\n",
    "| `age`                | Un número entero que representa los días transcurridos desde la fecha en que se subió el video hasta el 15 de febrero de 2007 (fecha de creación de YouTube) |\n",
    "| `category`           | Una cadena que indica la categoría del video elegida por el cargador                                       |\n",
    "| `length`             | Un número entero que representa la duración del video en minutos                                            |\n",
    "| `views`              | Un número entero que representa el número de visualizaciones del video                                      |\n",
    "| `rate`               | Un número flotante que indica la calificación del video                                                      |\n",
    "| `ratings`            | Un número entero que representa el número de calificaciones recibidas por el video                          |\n",
    "| `comments`           | Un número entero que indica el número de comentarios en el video                                            |\n",
    "| `related IDs`        | Hasta 20 cadenas de texto con los IDs de videos relacionados                                                |\n"
   ]
  },
  {
   "cell_type": "code",
   "execution_count": null,
   "metadata": {},
   "outputs": [],
   "source": [
    "import os\n",
    "import pandas as pd\n",
    "import zipfile\n",
    "from pymongo import MongoClient\n",
    "import matplotlib.pyplot as plt\n",
    "\n",
    "zip_file_path = 'datos_videos.zip'  \n",
    "output_folder = 'video_data'\n",
    "\n",
    "with zipfile.ZipFile(zip_file_path, 'r') as zip_ref:\n",
    "    zip_ref.extractall(output_folder)\n",
    "\n",
    "dataframes = []\n",
    "for i in range(4):  \n",
    "    file_path = os.path.join(output_folder, f\"{i}.txt\")\n",
    "    df = pd.read_csv(file_path, sep='\\t', header=None)  \n",
    "    dataframes.append(df)\n",
    "\n",
    "df_all = pd.concat(dataframes, ignore_index=True)\n",
    "\n",
    "df_all.columns = ['VideoID', 'Uploader', 'Age', 'Category', 'Length', 'Views', 'Rate', 'Ratings', 'Comments', 'Related_IDs']\n",
    "\n",
    "df_filtered = df_all[['VideoID', 'Age', 'Category', 'Views', 'Rate']]\n",
    "\n",
    "df_filtered = df_filtered[df_filtered['Category'].isin(['Music', 'Entertainment'])]\n",
    "\n",
    "client = MongoClient('mongodb://localhost:27017/')\n",
    "db = client['video_db']\n",
    "collection = db['videos']\n",
    "\n",
    "data_dict = df_filtered.to_dict('records')\n",
    "collection.insert_many(data_dict)\n",
    "\n",
    "plt.figure(figsize=(10, 6))\n",
    "plt.bar(df_filtered['Category'], df_filtered['Views'], color='blue')\n",
    "plt.title('Número de Visualizaciones por Categoría')\n",
    "plt.xlabel('Categoría')\n",
    "plt.ylabel('Número de Visualizaciones')\n",
    "plt.xticks(rotation=45)\n",
    "plt.tight_layout()\n",
    "plt.savefig('views_by_category.png')\n",
    "\n",
    "plt.figure(figsize=(10, 6))\n",
    "plt.scatter(df_filtered['Age'], df_filtered['Rate'], color='red')\n",
    "plt.title('Calificación vs Edad del Video')\n",
    "plt.xlabel('Edad (días)')\n",
    "plt.ylabel('Calificación')\n",
    "plt.tight_layout()\n",
    "plt.savefig('rating_vs_age.png')\n",
    "\n",
    "print(\"Los datos han sido exportados a MongoDB.\")\n",
    "print(\"Gráficos generados: views_by_category.png y rating_vs_age.png\")\n"
   ]
  }
 ],
 "metadata": {
  "language_info": {
   "name": "python"
  }
 },
 "nbformat": 4,
 "nbformat_minor": 2
}
